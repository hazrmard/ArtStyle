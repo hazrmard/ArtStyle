{
 "cells": [
  {
   "cell_type": "code",
   "execution_count": null,
   "metadata": {},
   "outputs": [],
   "source": [
    "% reload_ext autoreload\n",
    "% autoreload 2\n",
    "% matplotlib inline\n",
    "from IPython import display\n",
    "\n",
    "import numpy as np\n",
    "import matplotlib.pyplot as plt\n",
    "import torch\n",
    "import torch.nn as nn\n",
    "\n",
    "import utils\n",
    "from lib import pipeline\n",
    "\n",
    "C = utils.get_config('./myconfig.ini')"
   ]
  },
  {
   "cell_type": "markdown",
   "metadata": {},
   "source": [
    "# Artstyle\n",
    "\n",
    "The collection of WikiArt paintings cropped to `224x224` at the centre. See `MNIST.ipynb` for introduction."
   ]
  },
  {
   "cell_type": "code",
   "execution_count": null,
   "metadata": {},
   "outputs": [],
   "source": [
    "traindata = pipeline.cropped.Data(root=C.paths.root, info_csv=C.paths.train_csv, train=True)\n",
    "\n",
    "print('{} Instances. {} Classes'.format(len(traindata), len(traindata.encoder.classes_)))"
   ]
  },
  {
   "cell_type": "code",
   "execution_count": null,
   "metadata": {},
   "outputs": [],
   "source": [
    "fig, (row1, row2) = plt.subplots(nrows=2, ncols=5)\n",
    "for i, ax in enumerate((*row1, *row2)):\n",
    "    x, y = traindata[4470+i]  # x.shape == (1, 28, 28), y.shape == (1,)\n",
    "    ax.imshow(x[0])"
   ]
  },
  {
   "cell_type": "code",
   "execution_count": null,
   "metadata": {},
   "outputs": [],
   "source": [
    "EPOCHS = 1\n",
    "BATCH_SIZE = 10\n",
    "LRATE = 1e-3\n",
    "MOMENTUM = 0.9\n",
    "USE_CUDA = True\n",
    "\n",
    "net = pipeline.cropped.AlexNet(pretrained=True)\n",
    "criterion = nn.CrossEntropyLoss()\n",
    "optimizer = torch.optim.SGD(net.parameters(), lr=LRATE, momentum=MOMENTUM)\n",
    "\n",
    "model = pipeline.cropped.Model(net=net, criterion=criterion, optimizer=optimizer, cuda=USE_CUDA)\n",
    "model.train(dataset=traindata, batch_size=BATCH_SIZE, epochs=EPOCHS)"
   ]
  },
  {
   "cell_type": "code",
   "execution_count": null,
   "metadata": {},
   "outputs": [],
   "source": [
    "testdata = pipeline.cropped.Data(root=C.paths.root, info_csv=C.paths.train_csv, train=False)\n",
    "model.evaluate(testdata)"
   ]
  },
  {
   "cell_type": "code",
   "execution_count": null,
   "metadata": {},
   "outputs": [],
   "source": [
    "from torch.utils.data import DataLoader\n",
    "from tqdm.autonotebook import tqdm\n",
    "d = DataLoader(traindata, batch_size=10)\n",
    "for x, y in tqdm(d):\n",
    "    assert x.shape == (10, 3, 224, 224)"
   ]
  }
 ],
 "metadata": {
  "kernelspec": {
   "display_name": "Python 3",
   "language": "python",
   "name": "python3"
  },
  "language_info": {
   "codemirror_mode": {
    "name": "ipython",
    "version": 3
   },
   "file_extension": ".py",
   "mimetype": "text/x-python",
   "name": "python",
   "nbconvert_exporter": "python",
   "pygments_lexer": "ipython3",
   "version": "3.7.0"
  }
 },
 "nbformat": 4,
 "nbformat_minor": 2
}
