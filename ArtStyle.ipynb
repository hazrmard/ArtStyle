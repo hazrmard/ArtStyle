{
 "cells": [
  {
   "cell_type": "code",
   "execution_count": 4,
   "metadata": {},
   "outputs": [],
   "source": [
    "% reload_ext autoreload\n",
    "% autoreload 2\n",
    "% matplotlib inline\n",
    "\n",
    "import numpy as np\n",
    "import matplotlib.pyplot as plt\n",
    "import torch\n",
    "import torch.nn as nn\n",
    "\n",
    "import utils\n",
    "from lib.pipeline import resized\n",
    "\n",
    "C = utils.get_config('./myconfig.ini')"
   ]
  },
  {
   "cell_type": "markdown",
   "metadata": {},
   "source": [
    "# Artstyle\n",
    "\n",
    "The collection of WikiArt paintings cropped to `224x224` at the centre. See `MNIST.ipynb` for introduction.\n",
    "\n",
    "## Resized\n",
    "\n",
    "### Loading dataset"
   ]
  },
  {
   "cell_type": "code",
   "execution_count": 2,
   "metadata": {},
   "outputs": [
    {
     "name": "stdout",
     "output_type": "stream",
     "text": [
      "79433 Instances. 136 Classes\n"
     ]
    }
   ],
   "source": [
    "traindata = resized.Data(root=C.paths.root, info_csv=C.paths.train_csv, train=True)\n",
    "print('{} Instances. {} Classes'.format(len(traindata), len(traindata.encoder.classes_)))"
   ]
  },
  {
   "cell_type": "markdown",
   "metadata": {},
   "source": [
    "### Training - AlexNet"
   ]
  },
  {
   "cell_type": "code",
   "execution_count": null,
   "metadata": {
    "scrolled": false
   },
   "outputs": [],
   "source": [
    "%%time\n",
    "EPOCHS = 1\n",
    "XVAL = 0.05\n",
    "BATCH_SIZE = 128\n",
    "LRATE = 1e-3\n",
    "MOMENTUM = 0.9\n",
    "DEVICE = 'cuda:0'\n",
    "\n",
    "net = resized.Net(pretrained=True).to(DEVICE)\n",
    "criterion = nn.CrossEntropyLoss()\n",
    "optimizer = torch.optim.SGD(net.parameters(), lr=LRATE, momentum=MOMENTUM)\n",
    "\n",
    "model = resized.Model(net=net, criterion=criterion, optimizer=optimizer, device=DEVICE)\n",
    "model.train(dataset=traindata, batch_size=BATCH_SIZE, epochs=EPOCHS, xvalidate=XVAL, num_workers=2)\n",
    "\n",
    "# model.save('resized-alexnet.pt')"
   ]
  }
 ],
 "metadata": {
  "kernelspec": {
   "display_name": "Python 3",
   "language": "python",
   "name": "python3"
  },
  "language_info": {
   "codemirror_mode": {
    "name": "ipython",
    "version": 3
   },
   "file_extension": ".py",
   "mimetype": "text/x-python",
   "name": "python",
   "nbconvert_exporter": "python",
   "pygments_lexer": "ipython3",
   "version": "3.7.0"
  }
 },
 "nbformat": 4,
 "nbformat_minor": 2
}
