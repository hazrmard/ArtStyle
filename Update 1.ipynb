{
 "cells": [
  {
   "cell_type": "markdown",
   "metadata": {},
   "source": [
    "# ArtStyle\n",
    "\n",
    "This project attempts to classify the style of various paintings by using different approaches.\n",
    "\n",
    "### Data\n",
    "\n",
    "The data consist of several thousand images of paintings, and a CSV file containing their labels. As a pre-processing step, styles that occur very infrequently were eliminated from consideration. The remaining data were divided into a training and testing set using the script `split.py`.\n",
    "\n",
    "CSV files for train,test, and combined data have the format:\n",
    "```\n",
    "style   |   filename\n",
    "----------------------\n",
    "style1  |   filename1\n",
    "style2  |   filename2\n",
    "...\n",
    "```\n",
    "\n",
    "For some classifiers, features are extracted from image data and stored in separate CSV files for sake of time. \n",
    "\n",
    "### Classifiers\n",
    "\n",
    "There are two *baseline* approaches. In both baseline approaches, there is no training phase.\n",
    "\n",
    "* **Naive Classification** uses a simple majority style label to classifiy paintings.\n",
    "* **Expert Classification** uses hand-crafted thresholds on various image properties to classify them. The thresholds are determined by programmers looking at paintings and trying to emulate their thought process behind their predictions.\n",
    "\n",
    "There are several approaches used for comparative study:\n",
    "\n",
    "* **kNN Classification** uses votes case by data points closest to a test point in feature space to determine final style. Features are pre-computed using the `extractfeatures.py` script.\n",
    "* **Decision Tree Classification** splits data by most useful features successively until a split contains a single style. The prediction is made by running a test point through the same set of splits across features and seeing in which final split it ends up."
   ]
  },
  {
   "cell_type": "code",
   "execution_count": 52,
   "metadata": {},
   "outputs": [],
   "source": [
    "%reload_ext autoreload\n",
    "%autoreload 2\n",
    "%matplotlib inline\n",
    "\n",
    "import numpy as np\n",
    "import pandas as pd\n",
    "from sklearn.metrics import confusion_matrix\n",
    "import matplotlib.pyplot as plt\n",
    "from glob import glob\n",
    "import os\n",
    "import imageio\n",
    "from scipy import ndimage\n",
    "\n",
    "from naiveclassifier import NaiveClassifier\n",
    "from expertclassifier import ExpertClassifier\n",
    "from knnclassifier import KNNClassifier\n",
    "from utils import ImageStreamer, plot_cmatrix\n",
    "\n",
    "# CSV of files to be used in training set.\n",
    "traindatapath = 'data/train.csv'\n",
    "# CSV of pre-extracted features for kNN and DecisionTree classifiers for files in training set.\n",
    "featuredatapath = 'data/features.csv'\n",
    "# column names of CSV\n",
    "cols = ['style', 'filename']\n",
    "# directory in which images are downloaded. Both training and test images reside in the same directory.\n",
    "imgdir = r'D:\\ArtStyle\\Test'\n",
    "data = pd.read_csv(traindatapath, header=0, names=cols)"
   ]
  },
  {
   "cell_type": "markdown",
   "metadata": {},
   "source": [
    "## Preprocessing"
   ]
  },
  {
   "cell_type": "code",
   "execution_count": 2,
   "metadata": {
    "scrolled": true
   },
   "outputs": [
    {
     "name": "stdout",
     "output_type": "stream",
     "text": [
      "17111 files available out of 23807 files downloaded.\n"
     ]
    }
   ],
   "source": [
    "# Getting list of available data points (i.e. files downloaded to device, not filtered out and not in test set)\n",
    "downloaded_fnames = os.listdir(imgdir)\n",
    "train_fnames = list(data['filename'].values)             # filenames in training split (downloaded or not)\n",
    "avail_fnames = [f for f in downloaded_fnames if f in train_fnames]  # downloaded filenames in training split\n",
    "\n",
    "print('{0} files available out of {1} files downloaded.'.format(len(avail_fnames), len(downloaded_fnames)))"
   ]
  },
  {
   "cell_type": "code",
   "execution_count": 3,
   "metadata": {},
   "outputs": [
    {
     "name": "stdout",
     "output_type": "stream",
     "text": [
      "15400 instances in training.\n",
      "1711 instance in validation.\n"
     ]
    },
    {
     "data": {
      "text/html": [
       "<div>\n",
       "<style scoped>\n",
       "    .dataframe tbody tr th:only-of-type {\n",
       "        vertical-align: middle;\n",
       "    }\n",
       "\n",
       "    .dataframe tbody tr th {\n",
       "        vertical-align: top;\n",
       "    }\n",
       "\n",
       "    .dataframe thead th {\n",
       "        text-align: right;\n",
       "    }\n",
       "</style>\n",
       "<table border=\"1\" class=\"dataframe\">\n",
       "  <thead>\n",
       "    <tr style=\"text-align: right;\">\n",
       "      <th></th>\n",
       "      <th>style</th>\n",
       "      <th>filename_count</th>\n",
       "    </tr>\n",
       "  </thead>\n",
       "  <tbody>\n",
       "    <tr>\n",
       "      <th>0</th>\n",
       "      <td>Abstract Expressionism</td>\n",
       "      <td>481</td>\n",
       "    </tr>\n",
       "    <tr>\n",
       "      <th>1</th>\n",
       "      <td>Art Informel</td>\n",
       "      <td>257</td>\n",
       "    </tr>\n",
       "    <tr>\n",
       "      <th>2</th>\n",
       "      <td>Art Nouveau (Modern)</td>\n",
       "      <td>1011</td>\n",
       "    </tr>\n",
       "    <tr>\n",
       "      <th>3</th>\n",
       "      <td>Baroque</td>\n",
       "      <td>1027</td>\n",
       "    </tr>\n",
       "    <tr>\n",
       "      <th>4</th>\n",
       "      <td>Cubism</td>\n",
       "      <td>391</td>\n",
       "    </tr>\n",
       "    <tr>\n",
       "      <th>5</th>\n",
       "      <td>Early Renaissance</td>\n",
       "      <td>274</td>\n",
       "    </tr>\n",
       "    <tr>\n",
       "      <th>6</th>\n",
       "      <td>Expressionism</td>\n",
       "      <td>1546</td>\n",
       "    </tr>\n",
       "    <tr>\n",
       "      <th>7</th>\n",
       "      <td>High Renaissance</td>\n",
       "      <td>239</td>\n",
       "    </tr>\n",
       "    <tr>\n",
       "      <th>8</th>\n",
       "      <td>Impressionism</td>\n",
       "      <td>2187</td>\n",
       "    </tr>\n",
       "    <tr>\n",
       "      <th>9</th>\n",
       "      <td>Magic Realism</td>\n",
       "      <td>276</td>\n",
       "    </tr>\n",
       "    <tr>\n",
       "      <th>10</th>\n",
       "      <td>Mannerism (Late Renaissance)</td>\n",
       "      <td>276</td>\n",
       "    </tr>\n",
       "    <tr>\n",
       "      <th>11</th>\n",
       "      <td>Naïve Art (Primitivism)</td>\n",
       "      <td>469</td>\n",
       "    </tr>\n",
       "    <tr>\n",
       "      <th>12</th>\n",
       "      <td>Neoclassicism</td>\n",
       "      <td>378</td>\n",
       "    </tr>\n",
       "    <tr>\n",
       "      <th>13</th>\n",
       "      <td>Northern Renaissance</td>\n",
       "      <td>490</td>\n",
       "    </tr>\n",
       "    <tr>\n",
       "      <th>14</th>\n",
       "      <td>Post-Impressionism</td>\n",
       "      <td>1118</td>\n",
       "    </tr>\n",
       "    <tr>\n",
       "      <th>15</th>\n",
       "      <td>Realism</td>\n",
       "      <td>2144</td>\n",
       "    </tr>\n",
       "    <tr>\n",
       "      <th>16</th>\n",
       "      <td>Rococo</td>\n",
       "      <td>561</td>\n",
       "    </tr>\n",
       "    <tr>\n",
       "      <th>17</th>\n",
       "      <td>Romanticism</td>\n",
       "      <td>2031</td>\n",
       "    </tr>\n",
       "    <tr>\n",
       "      <th>18</th>\n",
       "      <td>Surrealism</td>\n",
       "      <td>928</td>\n",
       "    </tr>\n",
       "    <tr>\n",
       "      <th>19</th>\n",
       "      <td>Symbolism</td>\n",
       "      <td>769</td>\n",
       "    </tr>\n",
       "    <tr>\n",
       "      <th>20</th>\n",
       "      <td>Ukiyo-e</td>\n",
       "      <td>258</td>\n",
       "    </tr>\n",
       "  </tbody>\n",
       "</table>\n",
       "</div>"
      ],
      "text/plain": [
       "                           style  filename_count\n",
       "0         Abstract Expressionism             481\n",
       "1                   Art Informel             257\n",
       "2           Art Nouveau (Modern)            1011\n",
       "3                        Baroque            1027\n",
       "4                         Cubism             391\n",
       "5              Early Renaissance             274\n",
       "6                  Expressionism            1546\n",
       "7               High Renaissance             239\n",
       "8                  Impressionism            2187\n",
       "9                  Magic Realism             276\n",
       "10  Mannerism (Late Renaissance)             276\n",
       "11       Naïve Art (Primitivism)             469\n",
       "12                 Neoclassicism             378\n",
       "13          Northern Renaissance             490\n",
       "14            Post-Impressionism            1118\n",
       "15                       Realism            2144\n",
       "16                        Rococo             561\n",
       "17                   Romanticism            2031\n",
       "18                    Surrealism             928\n",
       "19                     Symbolism             769\n",
       "20                       Ukiyo-e             258"
      ]
     },
     "metadata": {},
     "output_type": "display_data"
    }
   ],
   "source": [
    "# truncating data to images already downloaded - this reduces the available training/validation data\n",
    "data = data.loc[data['filename'].isin(avail_fnames)].reset_index(drop=True)\n",
    "\n",
    "# splitting training data into training and validation sets\n",
    "validation_split = 0.1  # as a fraction of the training set\n",
    "train_split = 1 - validation_split\n",
    "\n",
    "data = data.sample(frac=1, random_state=0).reset_index(drop=True)\n",
    "\n",
    "num_instances = len(data)\n",
    "num_train = int(np.ceil(train_split * num_instances))\n",
    "num_val = int(np.ceil(validation_split * num_train))\n",
    "\n",
    "val = data.iloc[num_train:]\n",
    "train = data.iloc[:num_train]\n",
    "\n",
    "print('{0} instances in training.\\n{1} instance in validation.'.format(len(train), len(val)))\n",
    "\n",
    "\n",
    "# Get styles in data, in alphabetical order\n",
    "counts = data.groupby('style').count().add_suffix('_count').reset_index()\n",
    "style_names = counts['style'].squeeze().values.copy()\n",
    "style_names[11] = 'Primitivism'  # different label used for human predictions\n",
    "display(counts)"
   ]
  },
  {
   "cell_type": "markdown",
   "metadata": {},
   "source": [
    "# Naive Classifier\n",
    "\n",
    "The naive classifier determines the majority label in the training set and uses that as the only prediction during operation."
   ]
  },
  {
   "cell_type": "code",
   "execution_count": null,
   "metadata": {},
   "outputs": [],
   "source": [
    "# Instantiate classifier and train\n",
    "nc = NaiveClassifier()\n",
    "nc.train(X=train['filename'].values, Y=train['style'].values)\n",
    "\n",
    "# Evaluate on validation set\n",
    "naive_acc, _ = nc.evaluate(X=train['filename'].values, Y=train['style'].values)\n",
    "print('Training accuracy', naive_acc)\n",
    "naive_acc, naive_pred = nc.evaluate(X=val['filename'].values, Y=val['style'].values)\n",
    "print('Validation accuracy', naive_acc)\n",
    "\n",
    "naive_cmatrix = confusion_matrix(val['style'].values, naive_pred, labels=counts['style'].values)\n",
    "plt.figure(figsize=(12,12))\n",
    "plot_cmatrix(naive_cmatrix, style_names)\n",
    "# np.savetxt('naive_cmatrix.csv', naive_cmatrix, fmt='%3d', delimiter=',')"
   ]
  },
  {
   "cell_type": "markdown",
   "metadata": {},
   "source": [
    "# Expert Classifier\n",
    "\n",
    "The expert classifier uses hand-designed features to determine style. Its construction is in two stages:\n",
    "\n",
    "## Training\n",
    "Involves programmers looking at paintings and making predictions on style."
   ]
  },
  {
   "cell_type": "code",
   "execution_count": null,
   "metadata": {
    "scrolled": false
   },
   "outputs": [],
   "source": [
    "# Analyzing images to learn feature detectors by hand\n",
    "plot=False\n",
    "N = 50\n",
    "stream = ImageStreamer(train['filename'].iloc[:N], basedir=imgdir)\n",
    "ec = ExpertClassifier()\n",
    "results = []\n",
    "if plot:\n",
    "    plt.figure(figsize=(24, int(np.ceil(N/4)) * 6))\n",
    "# print('#\\tstyle\\t\\t\\tvar\\tavg\\tblur')\n",
    "for i, im in enumerate(stream):\n",
    "    if plot:\n",
    "        plt.subplot(int(np.ceil(N/4)),4,i+1)\n",
    "        plt.imshow(im)\n",
    "        plt.title(avail_styles[i])\n",
    "    results.append([train['style'].iloc[i], ec.variance(im), ec.avg_color(im), ec.blurriness(im, 1.0)])\n",
    "#     print('{0}\\t{1:20s}\\t{2:5.0f}\\t{3:3.0f}\\t{4:3.0f}'.format(i+1, avail_styles[i], ec.variance(im), ec.avg_color(im), ec.blurriness(im, 1.0)))\n",
    "resdf = pd.DataFrame(results, columns=['style', 'var', 'avg', 'blur'])\n",
    "display(resdf)\n",
    "if plot:\n",
    "    plt.show()"
   ]
  },
  {
   "cell_type": "code",
   "execution_count": null,
   "metadata": {
    "scrolled": false
   },
   "outputs": [],
   "source": [
    "# Plotting human assigned labels for expert classifier training\n",
    "human = pd.read_csv('data/human_raw.csv', header=0, usecols=[1,3,4,5,6])\n",
    "plt.figure(figsize=(12,12))\n",
    "for i in range(4):\n",
    "    plt.subplot(2,2,i+1)\n",
    "    cmatrix = confusion_matrix(human['Label'].values, human.iloc[:, i+1].values, labels=style_names)\n",
    "    im = plot_cmatrix(cmatrix, cbar=False)\n",
    "    plt.title(human.columns[i+1])\n",
    "\n",
    "ticks = np.arange(len(style_names))\n",
    "plt.subplot(2,2,1)\n",
    "plt.yticks(ticks, style_names)\n",
    "plt.subplot(2,2,3)\n",
    "plt.yticks(ticks, style_names)\n",
    "plt.xticks(ticks, style_names, rotation=90)\n",
    "plt.subplot(2,2,4)\n",
    "plt.xticks(ticks, style_names, rotation=90)\n",
    "\n",
    "fig = plt.gcf()\n",
    "fig.subplots_adjust(right=0.8)\n",
    "cbar_ax = fig.add_axes([0.85, 0.15, 0.05, 0.7])\n",
    "fig.colorbar(im, cax=cbar_ax)\n",
    "\n",
    "plt.show()\n"
   ]
  },
  {
   "cell_type": "markdown",
   "metadata": {},
   "source": [
    "After looking at paintings, we try to emulate our decision process by establishing thresholds on various image statistics (for e.g. mean brightness, color variance etc.)"
   ]
  },
  {
   "cell_type": "code",
   "execution_count": null,
   "metadata": {},
   "outputs": [],
   "source": [
    "grouped = resdf.groupby('style')\n",
    "desc = grouped.describe(percentiles=[])\n",
    "display(desc)"
   ]
  },
  {
   "cell_type": "markdown",
   "metadata": {},
   "source": [
    "## Prediction\n",
    "\n",
    "Based on insights from looking at paintings, an *Expert Classifier* is hand-designed and run on validation data."
   ]
  },
  {
   "cell_type": "code",
   "execution_count": null,
   "metadata": {},
   "outputs": [],
   "source": [
    "# After feature detectors have been hand-designed, running them on a subset of training data\n",
    "stream = ImageStreamer(val['filename'].values)\n",
    "ec = ExpertClassifier()\n",
    "acc, expert_pred = ec.evaluate(stream, val['style'].values)\n",
    "print('Validation accuracy', acc)\n",
    "\n",
    "# Get confusion matrix\n",
    "true_labels = val['style'].values\n",
    "expert_cmatrix = confusion_matrix(true_labels, expert_pred, labels=counts['style'].values)\n",
    "plt.figure(figsize=(12,12))\n",
    "plot_cmatrix(expert_cmatrix, style_names)"
   ]
  },
  {
   "cell_type": "markdown",
   "metadata": {},
   "source": [
    "# kNN Classifier"
   ]
  },
  {
   "cell_type": "code",
   "execution_count": 61,
   "metadata": {},
   "outputs": [],
   "source": [
    "# reading features corresponding to images\n",
    "# The features.csv is of the form (no header):\n",
    "# style, filename, feature1, feature2, ...\n",
    "features = pd.read_csv(featuredatapath, header=None)\n",
    "features.rename(columns={0:'style', 1:'filename'}, inplace=True)\n",
    "features.rename(columns={features.columns[i]: 'f' + str(features.columns[i]-2) for i in range(2, len(features.columns))}, inplace=True)\n",
    "# filtering out filenames not in training set, or filtered out due to low frequency\n",
    "features = features.loc[features['filename'].isin(avail_fnames)].reset_index(drop=True)\n",
    "# splitting features into training and validation sets\n",
    "trainf = features.loc[features['filename'].isin(train['filename'])].reset_index(drop=True)\n",
    "valf = features.loc[features['filename'].isin(val['filename'])].reset_index(drop=True)"
   ]
  },
  {
   "cell_type": "code",
   "execution_count": null,
   "metadata": {},
   "outputs": [],
   "source": [
    "# Instantiate classifier\n",
    "hyperparameters = {\n",
    "    'n_neighbors': 5,\n",
    "    'weights': 'uniform',\n",
    "    'algorithm': 'auto',\n",
    "    'p': 2,\n",
    "    'metric': 'minkowski',\n",
    "    'n_jobs': -1\n",
    "}\n",
    "kc = KNNClassifier(**hyperparameters)\n",
    "kc.train(features.iloc[:, 2:].values, features.iloc[:, 0])\n",
    "acc, knn_pred = kc.evaluate(valf.iloc[:, 2:].values, valf.iloc[:, 0])\n",
    "print('Validation accuracy', acc)\n",
    "\n",
    "# Get confusion matrix\n",
    "true_labels = valf['style'].values\n",
    "knn_cmatrix = confusion_matrix(true_labels, knn_pred, labels=counts['style'].values)\n",
    "plt.figure(figsize=(12,12))\n",
    "plot_cmatrix(knn_cmatrix, style_names)"
   ]
  }
 ],
 "metadata": {
  "kernelspec": {
   "display_name": "Python 3",
   "language": "python",
   "name": "python3"
  },
  "language_info": {
   "codemirror_mode": {
    "name": "ipython",
    "version": 3
   },
   "file_extension": ".py",
   "mimetype": "text/x-python",
   "name": "python",
   "nbconvert_exporter": "python",
   "pygments_lexer": "ipython3",
   "version": "3.6.3"
  }
 },
 "nbformat": 4,
 "nbformat_minor": 2
}
