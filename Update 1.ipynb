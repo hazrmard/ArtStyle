{
 "cells": [
  {
   "cell_type": "code",
   "execution_count": 2,
   "metadata": {},
   "outputs": [],
   "source": [
    "%reload_ext autoreload\n",
    "%autoreload 2\n",
    "%matplotlib inline\n",
    "\n",
    "import numpy as np\n",
    "import pandas as pd\n",
    "from sklearn.metrics import confusion_matrix\n",
    "import matplotlib.pyplot as plt\n",
    "from glob import glob\n",
    "import os\n",
    "import imageio\n",
    "from scipy import ndimage\n",
    "\n",
    "from naiveclassifier import NaiveClassifier\n",
    "from expertclassifier import ExpertClassifier\n",
    "from utils import ImageStreamer, plot_cmatrix\n",
    "\n",
    "traindatapath = 'data/train.csv'\n",
    "cols = ['style', 'filename']\n",
    "imgdir = r'D:\\ArtStyle\\Test'\n",
    "\n",
    "data = pd.read_csv(traindatapath, header=0, names=cols)\n",
    "data['filename'] = [os.path.join(imgdir, f) for f in data['filename'].values]"
   ]
  },
  {
   "cell_type": "code",
   "execution_count": 3,
   "metadata": {
    "scrolled": true
   },
   "outputs": [
    {
     "name": "stdout",
     "output_type": "stream",
     "text": [
      "17111 files available out of 23807 files downloaded.\n"
     ]
    }
   ],
   "source": [
    "# Getting list of available data points (i.e. files downloaded to device and not filtered out and not in test set)\n",
    "downloaded_fnames = glob(os.path.join(imgdir, '*.jpg'))  # files downloaded to computer\n",
    "train_fnames = list(data['filename'].values)             # filenames in training split (downloaded or not)\n",
    "train_styles = list(data['style'].values)\n",
    "avail_fnames = [f for f in downloaded_fnames if f in train_fnames]  # downloaded filenames in training split\n",
    "# avail_styles = [train_styles[train_fnames.index(f)] for f in avail_fnames]\n",
    "\n",
    "print('{0} files available out of {1} files downloaded.'.format(len(avail_fnames), len(downloaded_fnames)))"
   ]
  },
  {
   "cell_type": "code",
   "execution_count": 4,
   "metadata": {},
   "outputs": [
    {
     "data": {
      "text/html": [
       "<div>\n",
       "<style scoped>\n",
       "    .dataframe tbody tr th:only-of-type {\n",
       "        vertical-align: middle;\n",
       "    }\n",
       "\n",
       "    .dataframe tbody tr th {\n",
       "        vertical-align: top;\n",
       "    }\n",
       "\n",
       "    .dataframe thead th {\n",
       "        text-align: right;\n",
       "    }\n",
       "</style>\n",
       "<table border=\"1\" class=\"dataframe\">\n",
       "  <thead>\n",
       "    <tr style=\"text-align: right;\">\n",
       "      <th></th>\n",
       "      <th>style</th>\n",
       "      <th>filename</th>\n",
       "    </tr>\n",
       "  </thead>\n",
       "  <tbody>\n",
       "    <tr>\n",
       "      <th>6</th>\n",
       "      <td>Romanticism</td>\n",
       "      <td>D:\\ArtStyle\\Test\\97897.jpg</td>\n",
       "    </tr>\n",
       "    <tr>\n",
       "      <th>10</th>\n",
       "      <td>Rococo</td>\n",
       "      <td>D:\\ArtStyle\\Test\\40116.jpg</td>\n",
       "    </tr>\n",
       "    <tr>\n",
       "      <th>12</th>\n",
       "      <td>Art Nouveau (Modern)</td>\n",
       "      <td>D:\\ArtStyle\\Test\\39594.jpg</td>\n",
       "    </tr>\n",
       "    <tr>\n",
       "      <th>13</th>\n",
       "      <td>Surrealism</td>\n",
       "      <td>D:\\ArtStyle\\Test\\72900.jpg</td>\n",
       "    </tr>\n",
       "    <tr>\n",
       "      <th>17</th>\n",
       "      <td>Expressionism</td>\n",
       "      <td>D:\\ArtStyle\\Test\\97022.jpg</td>\n",
       "    </tr>\n",
       "    <tr>\n",
       "      <th>24</th>\n",
       "      <td>Naïve Art (Primitivism)</td>\n",
       "      <td>D:\\ArtStyle\\Test\\96265.jpg</td>\n",
       "    </tr>\n",
       "    <tr>\n",
       "      <th>38</th>\n",
       "      <td>Impressionism</td>\n",
       "      <td>D:\\ArtStyle\\Test\\16007.jpg</td>\n",
       "    </tr>\n",
       "    <tr>\n",
       "      <th>40</th>\n",
       "      <td>Neoclassicism</td>\n",
       "      <td>D:\\ArtStyle\\Test\\70066.jpg</td>\n",
       "    </tr>\n",
       "    <tr>\n",
       "      <th>47</th>\n",
       "      <td>Romanticism</td>\n",
       "      <td>D:\\ArtStyle\\Test\\45332.jpg</td>\n",
       "    </tr>\n",
       "    <tr>\n",
       "      <th>49</th>\n",
       "      <td>Impressionism</td>\n",
       "      <td>D:\\ArtStyle\\Test\\88162.jpg</td>\n",
       "    </tr>\n",
       "  </tbody>\n",
       "</table>\n",
       "</div>"
      ],
      "text/plain": [
       "                      style                    filename\n",
       "6               Romanticism  D:\\ArtStyle\\Test\\97897.jpg\n",
       "10                   Rococo  D:\\ArtStyle\\Test\\40116.jpg\n",
       "12     Art Nouveau (Modern)  D:\\ArtStyle\\Test\\39594.jpg\n",
       "13               Surrealism  D:\\ArtStyle\\Test\\72900.jpg\n",
       "17            Expressionism  D:\\ArtStyle\\Test\\97022.jpg\n",
       "24  Naïve Art (Primitivism)  D:\\ArtStyle\\Test\\96265.jpg\n",
       "38            Impressionism  D:\\ArtStyle\\Test\\16007.jpg\n",
       "40            Neoclassicism  D:\\ArtStyle\\Test\\70066.jpg\n",
       "47              Romanticism  D:\\ArtStyle\\Test\\45332.jpg\n",
       "49            Impressionism  D:\\ArtStyle\\Test\\88162.jpg"
      ]
     },
     "metadata": {},
     "output_type": "display_data"
    },
    {
     "name": "stdout",
     "output_type": "stream",
     "text": [
      "15400 instances in training.\n",
      "1711 instance in validation.\n"
     ]
    }
   ],
   "source": [
    "# truncating data to images already downloaded - this reduces the available training/validation data\n",
    "data = data.loc[data['filename'].isin(avail_fnames)]\n",
    "display(data.iloc[:10])\n",
    "\n",
    "# splitting training data into training and validation sets\n",
    "validation_split = 0.1  # as a fraction of the training set\n",
    "train_split = 1 - validation_split\n",
    "\n",
    "data = data.sample(frac=1, random_state=0).reset_index(drop=True)\n",
    "\n",
    "num_instances = len(data)\n",
    "num_train = int(np.ceil(train_split * num_instances))\n",
    "num_val = int(np.ceil(validation_split * num_train))\n",
    "\n",
    "val = data.iloc[num_train:]\n",
    "train = data.iloc[:num_train]\n",
    "\n",
    "print('{0} instances in training.\\n{1} instance in validation.'.format(len(train), len(val)))\n"
   ]
  },
  {
   "cell_type": "code",
   "execution_count": null,
   "metadata": {},
   "outputs": [],
   "source": [
    "# Get styles in data, in alphabetical order\n",
    "counts = data.groupby('style').count().add_suffix('_count').reset_index()\n",
    "style_names = counts['style'].squeeze().values.copy()\n",
    "style_names[11] = 'Primitivism'  # character issue in Naive art label\n",
    "display(style_names)\n",
    "display(counts)"
   ]
  },
  {
   "cell_type": "markdown",
   "metadata": {},
   "source": [
    "# Naive Classifier"
   ]
  },
  {
   "cell_type": "code",
   "execution_count": null,
   "metadata": {},
   "outputs": [],
   "source": [
    "# Instantiate classifier and train\n",
    "nc = NaiveClassifier()\n",
    "nc.train(X=train['filename'].values, Y=train['style'].values)\n",
    "\n",
    "# Evaluate on validation set\n",
    "naive_acc, _ = nc.evaluate(X=train['filename'].values, Y=train['style'].values)\n",
    "print('Training accuracy', naive_acc)\n",
    "naive_acc, naive_pred = nc.evaluate(X=val['filename'].values, Y=val['style'].values)\n",
    "print('Validation accuracy', naive_acc)\n",
    "\n",
    "naive_cmatrix = confusion_matrix(val['style'].values, naive_pred, labels=counts['style'].values)\n",
    "plt.figure(figsize=(12,12))\n",
    "plot_cmatrix(naive_cmatrix, style_names)\n",
    "np.savetxt('naive_cmatrix.csv', naive_cmatrix, fmt='%3d', delimiter=',')"
   ]
  },
  {
   "cell_type": "markdown",
   "metadata": {},
   "source": [
    "# Expert Classifier"
   ]
  },
  {
   "cell_type": "code",
   "execution_count": null,
   "metadata": {
    "scrolled": false
   },
   "outputs": [],
   "source": [
    "# Analyzing images to learn feature detectors by hand\n",
    "plot=False\n",
    "N = 50\n",
    "stream = ImageStreamer(avail_fnames[:N])\n",
    "ec = ExpertClassifier()\n",
    "results = []\n",
    "if plot:\n",
    "    plt.figure(figsize=(24, int(np.ceil(N/4)) * 6))\n",
    "# print('#\\tstyle\\t\\t\\tvar\\tavg\\tblur')\n",
    "for i, im in enumerate(stream):\n",
    "    if plot:\n",
    "        plt.subplot(int(np.ceil(N/4)),4,i+1)\n",
    "        plt.imshow(im)\n",
    "        plt.title(avail_styles[i])\n",
    "    results.append([avail_styles[i], ec.variance(im), ec.avg_color(im), ec.blurriness(im, 1.0)])\n",
    "#     print('{0}\\t{1:20s}\\t{2:5.0f}\\t{3:3.0f}\\t{4:3.0f}'.format(i+1, avail_styles[i], ec.variance(im), ec.avg_color(im), ec.blurriness(im, 1.0)))\n",
    "resdf = pd.DataFrame(results, columns=['style', 'var', 'avg', 'blur'])\n",
    "display(resdf)\n",
    "grouped = resdf.groupby('style')\n",
    "if plot:\n",
    "    plt.show()"
   ]
  },
  {
   "cell_type": "code",
   "execution_count": null,
   "metadata": {
    "scrolled": false
   },
   "outputs": [],
   "source": [
    "# Plotting human assigned labels for expert classifier training\n",
    "human = pd.read_csv('human_raw.csv', header=0, usecols=[1,3,4,5,6])\n",
    "plt.figure(figsize=(12,12))\n",
    "for i in range(4):\n",
    "    plt.subplot(2,2,i+1)\n",
    "    cmatrix = confusion_matrix(human['Label'].values, human.iloc[:, i+1].values, labels=style_names)\n",
    "    im = plot_cmatrix(cmatrix, cbar=False)\n",
    "    plt.title(human.columns[i+1])\n",
    "\n",
    "ticks = np.arange(len(style_names))\n",
    "plt.subplot(2,2,1)\n",
    "plt.yticks(ticks, style_names)\n",
    "plt.subplot(2,2,3)\n",
    "plt.yticks(ticks, style_names)\n",
    "plt.xticks(ticks, style_names, rotation=90)\n",
    "plt.subplot(2,2,4)\n",
    "plt.xticks(ticks, style_names, rotation=90)\n",
    "\n",
    "fig = plt.gcf()\n",
    "fig.subplots_adjust(right=0.8)\n",
    "cbar_ax = fig.add_axes([0.85, 0.15, 0.05, 0.7])\n",
    "fig.colorbar(im, cax=cbar_ax)\n",
    "\n",
    "plt.show()\n"
   ]
  },
  {
   "cell_type": "code",
   "execution_count": null,
   "metadata": {},
   "outputs": [],
   "source": [
    "desc = grouped.describe(percentiles=[])"
   ]
  },
  {
   "cell_type": "code",
   "execution_count": null,
   "metadata": {},
   "outputs": [],
   "source": [
    "# After feature detectors have been hand-designed, running them on a subset of training data\n",
    "stream = ImageStreamer(val['filename'].values)\n",
    "ec = ExpertClassifier()\n",
    "acc, expert_pred = ec.evaluate(stream, val['style'].values)\n",
    "print('Training accuracy', acc)"
   ]
  },
  {
   "cell_type": "code",
   "execution_count": null,
   "metadata": {},
   "outputs": [],
   "source": [
    "# Get confusion matrix\n",
    "true_labels = val['style'].values\n",
    "expert_cmatrix = confusion_matrix(true_labels, expert_pred, labels=counts['style'].values)\n",
    "plt.figure(figsize=(12,12))\n",
    "plot_cmatrix(expert_cmatrix, style_names)\n",
    "np.savetxt('expert_cmatrix.csv', expert_cmatrix, fmt='%3d', delimiter=',')"
   ]
  },
  {
   "cell_type": "markdown",
   "metadata": {},
   "source": [
    "# kNN"
   ]
  },
  {
   "cell_type": "code",
   "execution_count": null,
   "metadata": {},
   "outputs": [],
   "source": [
    "# Testing various\n",
    "fname = data.loc[1, 'filename']\n",
    "im = imageio.imread(fname)\n",
    "hr = ndimage.measurements.histogram(im[:,:,0], 0, 255, 64)\n",
    "plt.plot(hr, color='r')\n",
    "hg = ndimage.measurements.histogram(im[:,:,1], 0, 255, 64)\n",
    "plt.plot(hg, color='g')\n",
    "hb = ndimage.measurements.histogram(im[:,:,2], 0, 255, 64)\n",
    "plt.plot(hb, color='b')\n",
    "plt.figure()\n",
    "plt.imshow(im)"
   ]
  },
  {
   "cell_type": "code",
   "execution_count": 14,
   "metadata": {},
   "outputs": [
    {
     "data": {
      "text/plain": [
       "(650, 512)"
      ]
     },
     "execution_count": 14,
     "metadata": {},
     "output_type": "execute_result"
    }
   ],
   "source": [
    "im[:,:,0].shape"
   ]
  }
 ],
 "metadata": {
  "kernelspec": {
   "display_name": "Python 3",
   "language": "python",
   "name": "python3"
  },
  "language_info": {
   "codemirror_mode": {
    "name": "ipython",
    "version": 3
   },
   "file_extension": ".py",
   "mimetype": "text/x-python",
   "name": "python",
   "nbconvert_exporter": "python",
   "pygments_lexer": "ipython3",
   "version": "3.6.3"
  }
 },
 "nbformat": 4,
 "nbformat_minor": 2
}
