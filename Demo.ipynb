{
 "cells": [
  {
   "cell_type": "code",
   "execution_count": 81,
   "metadata": {},
   "outputs": [],
   "source": [
    "% reload_ext autoreload\n",
    "% autoreload 2\n",
    "% matplotlib inline\n",
    "from IPython import display\n",
    "\n",
    "import numpy as np\n",
    "import matplotlib.pyplot as plt\n",
    "import torchvision\n",
    "from torchvision import transforms\n",
    "import torch\n",
    "from torch import nn\n",
    "from torch.utils.data import DataLoader\n",
    "\n",
    "import utils\n",
    "import models"
   ]
  },
  {
   "cell_type": "markdown",
   "metadata": {},
   "source": [
    "## MNIST"
   ]
  },
  {
   "cell_type": "code",
   "execution_count": 89,
   "metadata": {},
   "outputs": [
    {
     "name": "stdout",
     "output_type": "stream",
     "text": [
      "Instances: 60000\n"
     ]
    }
   ],
   "source": [
    "# a torch.utils.data.DataSet instance. Can be indexed to lazily\n",
    "# load instance/label. Ideally all datasets should be subclassed from\n",
    "# DataSet.\n",
    "traindata = models.mnist.Data(root='~/Downloads/MNIST', train=True)\n",
    "\n",
    "print('Instances: {}'.format(len(dataset)))"
   ]
  },
  {
   "cell_type": "code",
   "execution_count": 94,
   "metadata": {},
   "outputs": [
    {
     "data": {
      "image/png": "[encoded data removed]",
      "text/plain": [
       "<Figure size 432x288 with 10 Axes>"
      ]
     },
     "metadata": {},
     "output_type": "display_data"
    }
   ],
   "source": [
    "fig, (row1, row2) = plt.subplots(nrows=2, ncols=5)\n",
    "for i, ax in enumerate((*row1, *row2)):\n",
    "    x, y = dataset[i]  # x.shape == (1, 28, 28), y.shape == (1, 10)\n",
    "    ax.imshow(x[0])"
   ]
  },
  {
   "cell_type": "code",
   "execution_count": null,
   "metadata": {},
   "outputs": [],
   "source": [
    "# Define hyperparameters\n",
    "EPOCHS = 1\n",
    "BATCH_SIZE = 10\n",
    "LRATE = 1e-3\n",
    "MOMENTUM = 0.9\n",
    "USE_CUDA = True\n",
    "\n",
    "# Set up device for computation\n",
    "DEVICE = torch.device(\"cuda:0\" if (torch.cuda.is_available() and USE_CUDA) else \"cpu\")\n",
    "\n",
    "# Set up data loader -\n",
    "# A torch.utils.data.DataLoader instance. Can be used to iterate over batches\n",
    "# of data. Can use multiple processes to speed up i/o. A fancy wrapper\n",
    "# around DataSet.\n",
    "trainloader = DataLoader(traindata, batch_size=BATCH_SIZE)\n",
    "\n",
    "# Instantiate the defined network\n",
    "net = models.mnist.Net()\n",
    "# Send the network to GPU if available\n",
    "net.to(DEVICE)\n",
    "\n",
    "criterion = nn.CrossEntropyLoss()\n",
    "optimizer = torch.optim.SGD(net.parameters(), lr=LRATE, momentum=MOMENTUM)\n",
    "\n",
    "for epoch in range(EPOCHS):\n",
    "    print('Epoch #', epoch)\n",
    "    running_loss = 0.\n",
    "    for i, (batchX, batchY) in enumerate(trainloader, 1):\n",
    "        batchX, batchY = batchX.to(DEVICE), batchY.to(DEVICE)\n",
    "        \n",
    "        optimizer.zero_grad()           # clear gradients from prev. step\n",
    "        predY = net(batchX)             # get predicted labels\n",
    "        loss = criterion(predY, batchY) # compute loss\n",
    "        loss.backward()                 # backpropagate - populate error grad.\n",
    "        optimizer.step()                # update weights based on gradients\n",
    "        \n",
    "        running_loss += loss.item()\n",
    "        if i % 1000 == 0:\n",
    "            print('Min-batch # {0:4d}\\t Loss: {1:3.3f}'.format(i, running_loss / 1000))\n",
    "            running_loss = 0."
   ]
  },
  {
   "cell_type": "code",
   "execution_count": 92,
   "metadata": {},
   "outputs": [
    {
     "name": "stdout",
     "output_type": "stream",
     "text": [
      "Accuracy: 93.39%\n"
     ]
    }
   ],
   "source": [
    "# Evaluate on test set\n",
    "testdata = models.mnist.Data(root='~/Downloads/MNIST', train=False)\n",
    "testloader = DataLoader(testdata, batch_size=BATCH_SIZE)\n",
    "\n",
    "total = len(testdata)\n",
    "correct = 0\n",
    "for batchX, batchY in testloader:\n",
    "    batchX, batchY = batchX.to(DEVICE), batchY.to(DEVICE)\n",
    "    _, pred = torch.max(net(batchX), 1)\n",
    "    correct += (pred == batchY).sum().item()\n",
    "\n",
    "print('Accuracy: {:.2f}%'.format(100 * correct / total))"
   ]
  }
 ],
 "metadata": {
  "kernelspec": {
   "display_name": "Python 3",
   "language": "python",
   "name": "python3"
  },
  "language_info": {
   "codemirror_mode": {
    "name": "ipython",
    "version": 3
   },
   "file_extension": ".py",
   "mimetype": "text/x-python",
   "name": "python",
   "nbconvert_exporter": "python",
   "pygments_lexer": "ipython3",
   "version": "3.6.4"
  }
 },
 "nbformat": 4,
 "nbformat_minor": 2
}
